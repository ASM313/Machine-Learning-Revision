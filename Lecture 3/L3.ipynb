{
 "cells": [
  {
   "cell_type": "markdown",
   "metadata": {},
   "source": [
    "## Bi variate and Multivariate Analysis"
   ]
  },
  {
   "cell_type": "markdown",
   "metadata": {},
   "source": [
    "- ScatterPlot (Numerical to Numerical)\n",
    "- Bar Plot (Numerical to Categorical)\n",
    "- Box Plot (Numerical to Categorical)\n",
    "- DistPlot (Numerical to Categorical)\n",
    "- HeatMap (Categorical to Categorical)\n",
    "- ClusterMap (Categorical to Categorical)\n",
    "- Pairplot\n",
    "- LinePlot (Numerical to Numerical)"
   ]
  },
  {
   "cell_type": "code",
   "execution_count": null,
   "metadata": {
    "vscode": {
     "languageId": "plaintext"
    }
   },
   "outputs": [],
   "source": [
    "# Imports \n",
    "\n"
   ]
  },
  {
   "cell_type": "markdown",
   "metadata": {},
   "source": []
  }
 ],
 "metadata": {
  "language_info": {
   "name": "python"
  }
 },
 "nbformat": 4,
 "nbformat_minor": 2
}
